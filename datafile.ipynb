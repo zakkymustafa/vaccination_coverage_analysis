{
 "cells": [
  {
   "attachments": {},
   "cell_type": "markdown",
   "metadata": {},
   "source": [
    "DATA RETRIEVAL AND PREPARATION"
   ]
  },
  {
   "cell_type": "code",
   "execution_count": 40,
   "metadata": {},
   "outputs": [],
   "source": [
    "import requests\n",
    "import pandas as pd\n",
    "import numpy as np\n",
    "import matplotlib.pyplot as plt\n",
    "import seaborn as sns"
   ]
  },
  {
   "cell_type": "code",
   "execution_count": 1,
   "metadata": {},
   "outputs": [
    {
     "data": {
      "text/html": [
       "<div>\n",
       "<style scoped>\n",
       "    .dataframe tbody tr th:only-of-type {\n",
       "        vertical-align: middle;\n",
       "    }\n",
       "\n",
       "    .dataframe tbody tr th {\n",
       "        vertical-align: top;\n",
       "    }\n",
       "\n",
       "    .dataframe thead th {\n",
       "        text-align: right;\n",
       "    }\n",
       "</style>\n",
       "<table border=\"1\" class=\"dataframe\">\n",
       "  <thead>\n",
       "    <tr style=\"text-align: right;\">\n",
       "      <th></th>\n",
       "      <th>total</th>\n",
       "      <th>state</th>\n",
       "      <th>_id</th>\n",
       "      <th>_full_text</th>\n",
       "      <th>vaccine</th>\n",
       "    </tr>\n",
       "  </thead>\n",
       "  <tbody>\n",
       "    <tr>\n",
       "      <th>0</th>\n",
       "      <td>95.5</td>\n",
       "      <td>Abia</td>\n",
       "      <td>1</td>\n",
       "      <td>'95.5':3 'abia':1 'any':2</td>\n",
       "      <td>Any</td>\n",
       "    </tr>\n",
       "    <tr>\n",
       "      <th>1</th>\n",
       "      <td>86.4</td>\n",
       "      <td>Abia</td>\n",
       "      <td>2</td>\n",
       "      <td>'86.4':3 'abia':2 'measles':1</td>\n",
       "      <td>Measles</td>\n",
       "    </tr>\n",
       "    <tr>\n",
       "      <th>2</th>\n",
       "      <td>95.5</td>\n",
       "      <td>Abia</td>\n",
       "      <td>3</td>\n",
       "      <td>'1':2 '95.5':4 'abia':3 'penta':1</td>\n",
       "      <td>Penta 1</td>\n",
       "    </tr>\n",
       "    <tr>\n",
       "      <th>3</th>\n",
       "      <td>90.9</td>\n",
       "      <td>Abia</td>\n",
       "      <td>4</td>\n",
       "      <td>'2':3 '90.9':1 'abia':4 'penta':2</td>\n",
       "      <td>Penta 2</td>\n",
       "    </tr>\n",
       "    <tr>\n",
       "      <th>4</th>\n",
       "      <td>86.4</td>\n",
       "      <td>Abia</td>\n",
       "      <td>5</td>\n",
       "      <td>'3':2 '86.4':4 'abia':3 'penta':1</td>\n",
       "      <td>Penta 3</td>\n",
       "    </tr>\n",
       "  </tbody>\n",
       "</table>\n",
       "</div>"
      ],
      "text/plain": [
       "  total state  _id                         _full_text  vaccine\n",
       "0  95.5  Abia    1          '95.5':3 'abia':1 'any':2      Any\n",
       "1  86.4  Abia    2      '86.4':3 'abia':2 'measles':1  Measles\n",
       "2  95.5  Abia    3  '1':2 '95.5':4 'abia':3 'penta':1  Penta 1\n",
       "3  90.9  Abia    4  '2':3 '90.9':1 'abia':4 'penta':2  Penta 2\n",
       "4  86.4  Abia    5  '3':2 '86.4':4 'abia':3 'penta':1  Penta 3"
      ]
     },
     "execution_count": 1,
     "metadata": {},
     "output_type": "execute_result"
    }
   ],
   "source": [
    "\n",
    "\n",
    "url = \"https://openafrica.net/api/3/action/datastore_search_sql\"\n",
    "params = {\n",
    "    \"sql\": \"SELECT * from \\\"e2bcc139-4c7a-4096-945b-912a0f8b5385\\\" \"\n",
    "}\n",
    "\n",
    "response = requests.get(url, params=params)\n",
    "data = response.json()['result']['records']\n",
    "\n",
    "# Load the dataset into a dataframe\n",
    "df = pd.DataFrame(data)\n",
    "\n",
    "# print the first five rows\n",
    "df.head()"
   ]
  },
  {
   "cell_type": "code",
   "execution_count": 159,
   "metadata": {},
   "outputs": [
    {
     "data": {
      "text/plain": [
       "(190, 4)"
      ]
     },
     "execution_count": 159,
     "metadata": {},
     "output_type": "execute_result"
    }
   ],
   "source": [
    "df.shape"
   ]
  },
  {
   "attachments": {},
   "cell_type": "markdown",
   "metadata": {},
   "source": [
    "Data Dictionary description\n",
    "total - vaccine coverage percentage\n",
    "state - name of the state where the total() was collected\n",
    "vaccine - type of vaccine that was administered"
   ]
  },
  {
   "cell_type": "code",
   "execution_count": 2,
   "metadata": {},
   "outputs": [],
   "source": [
    "# drop the _full_text column it is unnecessary\n",
    "df.drop(['_full_text'], axis=1, inplace=True)"
   ]
  },
  {
   "cell_type": "code",
   "execution_count": 29,
   "metadata": {},
   "outputs": [
    {
     "name": "stdout",
     "output_type": "stream",
     "text": [
      "<class 'pandas.core.frame.DataFrame'>\n",
      "RangeIndex: 190 entries, 0 to 189\n",
      "Data columns (total 4 columns):\n",
      " #   Column   Non-Null Count  Dtype \n",
      "---  ------   --------------  ----- \n",
      " 0   total    190 non-null    object\n",
      " 1   state    190 non-null    object\n",
      " 2   _id      190 non-null    int64 \n",
      " 3   vaccine  190 non-null    object\n",
      "dtypes: int64(1), object(3)\n",
      "memory usage: 6.1+ KB\n"
     ]
    }
   ],
   "source": [
    "# non-missing values count and datatype\n",
    "df.info()"
   ]
  },
  {
   "attachments": {},
   "cell_type": "markdown",
   "metadata": {},
   "source": [
    "The non-null count equals the number of rows, so we don't have any missing values\n",
    "we can also check for non-missing values using .isna().sum()"
   ]
  },
  {
   "cell_type": "code",
   "execution_count": 4,
   "metadata": {},
   "outputs": [
    {
     "data": {
      "text/plain": [
       "total      0\n",
       "state      0\n",
       "_id        0\n",
       "vaccine    0\n",
       "dtype: int64"
      ]
     },
     "execution_count": 4,
     "metadata": {},
     "output_type": "execute_result"
    }
   ],
   "source": [
    "# count of non-missing values\n",
    "df.isna().sum()"
   ]
  },
  {
   "attachments": {},
   "cell_type": "markdown",
   "metadata": {},
   "source": [
    "Let's convert the total columns datatype from object to float, since it contains numeric values"
   ]
  },
  {
   "cell_type": "code",
   "execution_count": 30,
   "metadata": {},
   "outputs": [],
   "source": [
    "# convert total from an object to numeric\n",
    "df['total'] = df['total'].astype(float)\n"
   ]
  },
  {
   "cell_type": "code",
   "execution_count": 7,
   "metadata": {},
   "outputs": [
    {
     "data": {
      "text/html": [
       "<div>\n",
       "<style scoped>\n",
       "    .dataframe tbody tr th:only-of-type {\n",
       "        vertical-align: middle;\n",
       "    }\n",
       "\n",
       "    .dataframe tbody tr th {\n",
       "        vertical-align: top;\n",
       "    }\n",
       "\n",
       "    .dataframe thead th {\n",
       "        text-align: right;\n",
       "    }\n",
       "</style>\n",
       "<table border=\"1\" class=\"dataframe\">\n",
       "  <thead>\n",
       "    <tr style=\"text-align: right;\">\n",
       "      <th></th>\n",
       "      <th>total</th>\n",
       "      <th>_id</th>\n",
       "    </tr>\n",
       "  </thead>\n",
       "  <tbody>\n",
       "    <tr>\n",
       "      <th>count</th>\n",
       "      <td>190.000000</td>\n",
       "      <td>190.000000</td>\n",
       "    </tr>\n",
       "    <tr>\n",
       "      <th>mean</th>\n",
       "      <td>68.456842</td>\n",
       "      <td>95.500000</td>\n",
       "    </tr>\n",
       "    <tr>\n",
       "      <th>std</th>\n",
       "      <td>21.571869</td>\n",
       "      <td>54.992424</td>\n",
       "    </tr>\n",
       "    <tr>\n",
       "      <th>min</th>\n",
       "      <td>12.000000</td>\n",
       "      <td>1.000000</td>\n",
       "    </tr>\n",
       "    <tr>\n",
       "      <th>25%</th>\n",
       "      <td>54.725000</td>\n",
       "      <td>48.250000</td>\n",
       "    </tr>\n",
       "    <tr>\n",
       "      <th>50%</th>\n",
       "      <td>70.800000</td>\n",
       "      <td>95.500000</td>\n",
       "    </tr>\n",
       "    <tr>\n",
       "      <th>75%</th>\n",
       "      <td>86.400000</td>\n",
       "      <td>142.750000</td>\n",
       "    </tr>\n",
       "    <tr>\n",
       "      <th>max</th>\n",
       "      <td>99.900000</td>\n",
       "      <td>190.000000</td>\n",
       "    </tr>\n",
       "  </tbody>\n",
       "</table>\n",
       "</div>"
      ],
      "text/plain": [
       "            total         _id\n",
       "count  190.000000  190.000000\n",
       "mean    68.456842   95.500000\n",
       "std     21.571869   54.992424\n",
       "min     12.000000    1.000000\n",
       "25%     54.725000   48.250000\n",
       "50%     70.800000   95.500000\n",
       "75%     86.400000  142.750000\n",
       "max     99.900000  190.000000"
      ]
     },
     "execution_count": 7,
     "metadata": {},
     "output_type": "execute_result"
    }
   ],
   "source": [
    "# summary statistics\n",
    "df.describe()"
   ]
  },
  {
   "cell_type": "code",
   "execution_count": 10,
   "metadata": {},
   "outputs": [],
   "source": [
    "pd.set_option('display.max_rows', None)"
   ]
  },
  {
   "attachments": {},
   "cell_type": "markdown",
   "metadata": {},
   "source": [
    "# Interested in Unique values of categorical columns\n"
   ]
  },
  {
   "cell_type": "code",
   "execution_count": 7,
   "metadata": {},
   "outputs": [
    {
     "data": {
      "text/plain": [
       "array(['Abia', 'Adamawa', 'Akwa Ibom', 'Anambra', 'Bauchi', 'Bayelsa',\n",
       "       'Benue', 'Borno', 'Cross River', 'Delta', 'Ebonyi', 'Edo', 'Ekiti',\n",
       "       'Enugu', 'Federal Capital Territory', 'Gombe', 'Imo', 'Jigawa',\n",
       "       'Kaduna', 'Kano', 'Katsina', 'Kebbi', 'Kogi', 'Kwara', 'Lagos',\n",
       "       'Nasarawa', 'Niger', 'Nigeria', 'Ogun', 'Ondo', 'Osun', 'Oyo',\n",
       "       'Plateau', 'Rivers', 'Sokoto', 'Taraba', 'Yobe', 'Zamfara'],\n",
       "      dtype=object)"
      ]
     },
     "execution_count": 7,
     "metadata": {},
     "output_type": "execute_result"
    }
   ],
   "source": [
    "df['state'].unique()\n"
   ]
  },
  {
   "cell_type": "code",
   "execution_count": 8,
   "metadata": {},
   "outputs": [
    {
     "data": {
      "text/plain": [
       "array(['Any', 'Measles', 'Penta 1', 'Penta 2', 'Penta 3'], dtype=object)"
      ]
     },
     "execution_count": 8,
     "metadata": {},
     "output_type": "execute_result"
    }
   ],
   "source": [
    "df['vaccine'].unique()\n"
   ]
  },
  {
   "attachments": {},
   "cell_type": "markdown",
   "metadata": {},
   "source": [
    "We can see the different types of vaccines administered for different diseases and doses, we have Measles, Penta 1, Penta 2, Penta 3"
   ]
  },
  {
   "attachments": {},
   "cell_type": "markdown",
   "metadata": {},
   "source": [
    "Number of rows for each unique value"
   ]
  },
  {
   "cell_type": "code",
   "execution_count": 9,
   "metadata": {},
   "outputs": [
    {
     "data": {
      "text/plain": [
       "Any        38\n",
       "Measles    38\n",
       "Penta 1    38\n",
       "Penta 2    38\n",
       "Penta 3    38\n",
       "Name: vaccine, dtype: int64"
      ]
     },
     "execution_count": 9,
     "metadata": {},
     "output_type": "execute_result"
    }
   ],
   "source": [
    "df['vaccine'].value_counts()"
   ]
  },
  {
   "cell_type": "code",
   "execution_count": 10,
   "metadata": {},
   "outputs": [
    {
     "data": {
      "text/plain": [
       "Abia                         5\n",
       "Ogun                         5\n",
       "Kebbi                        5\n",
       "Kogi                         5\n",
       "Kwara                        5\n",
       "Lagos                        5\n",
       "Nasarawa                     5\n",
       "Niger                        5\n",
       "Nigeria                      5\n",
       "Ondo                         5\n",
       "Adamawa                      5\n",
       "Osun                         5\n",
       "Oyo                          5\n",
       "Plateau                      5\n",
       "Rivers                       5\n",
       "Sokoto                       5\n",
       "Taraba                       5\n",
       "Yobe                         5\n",
       "Katsina                      5\n",
       "Kano                         5\n",
       "Kaduna                       5\n",
       "Jigawa                       5\n",
       "Akwa Ibom                    5\n",
       "Anambra                      5\n",
       "Bauchi                       5\n",
       "Bayelsa                      5\n",
       "Benue                        5\n",
       "Borno                        5\n",
       "Cross River                  5\n",
       "Delta                        5\n",
       "Ebonyi                       5\n",
       "Edo                          5\n",
       "Ekiti                        5\n",
       "Enugu                        5\n",
       "Federal Capital Territory    5\n",
       "Gombe                        5\n",
       "Imo                          5\n",
       "Zamfara                      5\n",
       "Name: state, dtype: int64"
      ]
     },
     "execution_count": 10,
     "metadata": {},
     "output_type": "execute_result"
    }
   ],
   "source": [
    "df['state'].value_counts()"
   ]
  },
  {
   "attachments": {},
   "cell_type": "markdown",
   "metadata": {},
   "source": [
    "VISUALIZATIONS"
   ]
  },
  {
   "attachments": {},
   "cell_type": "markdown",
   "metadata": {},
   "source": [
    "How is the distribution of the different doses in different states?\n",
    "How is the total coverage for the different vaccine types\n",
    "Did they get all 3 doses?\n",
    "For the different doses of vaccine, how is the coverage for each state?\n",
    "Which dose is high in coverage?\n",
    "\n",
    "Total number of vaccines\n",
    "Total coverage of each vaccine\n",
    "\n",
    "Which vaccines are popular?\n",
    "Within each state which vaccines are popular?\n",
    "\n",
    "highest and lowest vaccination coverage rates per state?\n",
    "\n",
    "Plot a geographical graph of the distribution of vaccines from around the country\n",
    "\n"
   ]
  },
  {
   "cell_type": "code",
   "execution_count": 14,
   "metadata": {},
   "outputs": [
    {
     "data": {
      "image/png": "[encoded data removed]",
      "text/plain": [
       "<Figure size 1080x720 with 1 Axes>"
      ]
     },
     "metadata": {
      "needs_background": "light"
     },
     "output_type": "display_data"
    }
   ],
   "source": [
    "fig=plt.figure(figsize=(15,10))\n",
    "plt.subplot2grid((3,3),(0,0))\n",
    "df['vaccine'].value_counts().plot(kind=\"bar\",title=\"Distribution of different Vaccine types\")\n",
    "plt.grid(True)"
   ]
  },
  {
   "cell_type": "code",
   "execution_count": 15,
   "metadata": {},
   "outputs": [
    {
     "data": {
      "image/png": "[encoded data removed]",
      "text/plain": [
       "<Figure size 1080x720 with 1 Axes>"
      ]
     },
     "metadata": {
      "needs_background": "light"
     },
     "output_type": "display_data"
    }
   ],
   "source": [
    "fig=plt.figure(figsize=(15,10))\n",
    "plt.subplot2grid((3,3),(0,0))\n",
    "df['state'].value_counts().plot(kind=\"bar\",title=\"Distribution of state\")\n",
    "plt.grid(True)"
   ]
  },
  {
   "attachments": {},
   "cell_type": "markdown",
   "metadata": {},
   "source": []
  },
  {
   "cell_type": "code",
   "execution_count": 34,
   "metadata": {},
   "outputs": [],
   "source": [
    "df['total'] = pd.to_numeric(df['total'], errors='coerce')"
   ]
  },
  {
   "cell_type": "code",
   "execution_count": 35,
   "metadata": {},
   "outputs": [
    {
     "data": {
      "text/plain": [
       "0      95.5\n",
       "1      86.4\n",
       "2      95.5\n",
       "3      90.9\n",
       "4      86.4\n",
       "       ... \n",
       "185    28.2\n",
       "186    20.4\n",
       "187    20.8\n",
       "188    17.1\n",
       "189    12.0\n",
       "Name: total, Length: 190, dtype: float64"
      ]
     },
     "execution_count": 35,
     "metadata": {},
     "output_type": "execute_result"
    }
   ],
   "source": [
    "df['total']"
   ]
  },
  {
   "cell_type": "code",
   "execution_count": 39,
   "metadata": {},
   "outputs": [
    {
     "data": {
      "image/png": "[encoded data removed]",
      "text/plain": [
       "<Figure size 864x576 with 1 Axes>"
      ]
     },
     "metadata": {
      "needs_background": "light"
     },
     "output_type": "display_data"
    }
   ],
   "source": [
    "plt.figure(figsize=(12, 8))\n",
    "df['total'] = pd.to_numeric(df['total'], errors='coerce')\n",
    "sns.histplot(data=df, x='total', bins=10)\n",
    "plt.xlabel('Vaccination Coverage')\n",
    "plt.ylabel('Frequency')\n",
    "plt.title('Distribution of Vaccination Coverage(Total)')\n",
    "plt.show()"
   ]
  },
  {
   "attachments": {},
   "cell_type": "markdown",
   "metadata": {},
   "source": [
    "Insights from the Total column\n",
    "The vaccination coverage seems to be slightly right-skewed, meaning it's not strictly normally distributed\n",
    "The majority of the coverage values seem to be concentrated between 85% and 95%"
   ]
  },
  {
   "attachments": {},
   "cell_type": "markdown",
   "metadata": {},
   "source": [
    "It's hard to tell if we have any outliers, so Lets check if we have any outliers using IQR"
   ]
  },
  {
   "cell_type": "code",
   "execution_count": 55,
   "metadata": {},
   "outputs": [
    {
     "name": "stdout",
     "output_type": "stream",
     "text": [
      "[]\n"
     ]
    }
   ],
   "source": [
    "def check_outliers(data, k=1.5):\n",
    "    q1 = np.percentile(data, 25)\n",
    "    q3 = np.percentile(data, 75)\n",
    "    iqr = q3 - q1\n",
    "    lower_bound = q1 - k*iqr\n",
    "    upper_bound = q3 + k*iqr\n",
    "\n",
    "    outliers_toremove =  [x for x in data if x < lower_bound and x > upper_bound]\n",
    "\n",
    "    return outliers_toremove\n",
    "\n",
    "data = df['total'].values\n",
    "outliers = check_outliers(data)\n",
    "print(outliers)"
   ]
  },
  {
   "cell_type": "code",
   "execution_count": 58,
   "metadata": {},
   "outputs": [
    {
     "data": {
      "text/plain": [
       "Text(0, 0.5, 'vaccine type')"
      ]
     },
     "execution_count": 58,
     "metadata": {},
     "output_type": "execute_result"
    },
    {
     "data": {
      "image/png": "[encoded data removed]",
      "text/plain": [
       "<Figure size 720x360 with 1 Axes>"
      ]
     },
     "metadata": {
      "needs_background": "light"
     },
     "output_type": "display_data"
    }
   ],
   "source": [
    "# How is the distribution of the different vaccine types in different states?\n",
    "state=pd.crosstab(df.state,df.vaccine)\n",
    "state=state.div(state.sum(1).astype(float),axis=0)\n",
    "state.plot(kind='bar',stacked=True,title='comparison of state with vaccine type',figsize=(10,5))\n",
    "plt.xlabel('State')\n",
    "plt.ylabel('vaccine type')"
   ]
  },
  {
   "cell_type": "code",
   "execution_count": 59,
   "metadata": {},
   "outputs": [
    {
     "data": {
      "text/plain": [
       "Text(0.5, 1.0, 'Comparison of the vaccination coverage rate total')"
      ]
     },
     "execution_count": 59,
     "metadata": {},
     "output_type": "execute_result"
    },
    {
     "data": {
      "image/png": "[encoded data removed]",
      "text/plain": [
       "<Figure size 720x360 with 1 Axes>"
      ]
     },
     "metadata": {
      "needs_background": "light"
     },
     "output_type": "display_data"
    }
   ],
   "source": [
    "# How is the total coverage for the different vaccine types\n",
    "\n",
    "df.boxplot(column='total',by='vaccine',figsize=(10,5))\n",
    "plt.xlabel('Vaccine type')\n",
    "plt.ylabel('Vaccination coverage rate')\n",
    "plt.title('Comparison of the vaccination coverage rate total')\n"
   ]
  },
  {
   "cell_type": "code",
   "execution_count": 61,
   "metadata": {},
   "outputs": [
    {
     "data": {
      "image/png": "[encoded data removed]",
      "text/plain": [
       "<Figure size 864x432 with 1 Axes>"
      ]
     },
     "metadata": {
      "needs_background": "light"
     },
     "output_type": "display_data"
    }
   ],
   "source": [
    "# For the different doses of vaccine(vaccine), how is the coverage(total) for each state(state)?\n",
    "\n",
    "state_avg_coverage_rate = df.groupby('state')['total'].mean().sort_values(ascending=False)\n",
    "plt.figure(figsize=(12, 6))\n",
    "sns.barplot(x=state_avg_coverage_rate.index, y=state_avg_coverage_rate.values)\n",
    "plt.xlabel('State')\n",
    "plt.ylabel('Average Vaccination Rate')\n",
    "plt.title('Average Vaccination Rate by State')\n",
    "plt.xticks(rotation=90)\n",
    "plt.show()"
   ]
  },
  {
   "cell_type": "code",
   "execution_count": 64,
   "metadata": {},
   "outputs": [
    {
     "data": {
      "image/png": "[encoded data removed]",
      "text/plain": [
       "<Figure size 720x576 with 2 Axes>"
      ]
     },
     "metadata": {
      "needs_background": "light"
     },
     "output_type": "display_data"
    }
   ],
   "source": [
    "# Plot a map of the distribution of vaccines around the country(different states)\n",
    "# Pivot the data to create a matrix with states as rows, vaccines as columns, and coverage as values\n",
    "heatmap_data = df.pivot(index='state', columns='vaccine', values='total')\n",
    "\n",
    "# Create the heatmap\n",
    "plt.figure(figsize=(10, 8))\n",
    "sns.heatmap(heatmap_data, cmap='YlGnBu', annot=True, fmt='.0f', linewidths=0.5)\n",
    "plt.title('Vaccine Coverage by State')\n",
    "plt.xlabel('Vaccine Type')\n",
    "plt.ylabel('State')\n",
    "plt.show()"
   ]
  },
  {
   "cell_type": "code",
   "execution_count": null,
   "metadata": {},
   "outputs": [],
   "source": []
  },
  {
   "attachments": {},
   "cell_type": "markdown",
   "metadata": {},
   "source": [
    "INSIGHTS"
   ]
  },
  {
   "attachments": {},
   "cell_type": "markdown",
   "metadata": {},
   "source": [
    "Top 5 states with highest average vaccination coverage rate\n",
    "Top 5 states with lowest average vaccination coverage rate\n",
    "\n",
    "Top vaccines with highest coverage rate\n",
    "\n",
    "dropout rates for the doses across the different states\n",
    "    % of children dropout from pentavalent vaccination\n",
    "    % of children dropout from measles vaccination\n",
    "X vaccine type is not administered in state Y\n",
    "\n",
    "Top 5 states that have the highest coverage of Penta 1 vaccine\n",
    "Top 5 states that have the highest coverage of Penta 2 vaccine\n",
    "Top 5 states that have the highest coverage of Penta 3 vaccine\n",
    "Top 5 states that have the highest coverage of Measles vaccine\n",
    "\n",
    "Top 5 states that have the lowest coverage of Penta 1 vaccine\n",
    "Top 5 states that have the lowest coverage of Penta 2 vaccine\n",
    "Top 5 states that have the lowest coverage of Penta 3 vaccine\n",
    "Top 5 states that have the lowest coverage of Measles vaccine\n",
    "\n",
    "state X,Y, and Z have the lowest coverage for all vaccine types\n",
    "\n",
    "\n"
   ]
  },
  {
   "cell_type": "code",
   "execution_count": 154,
   "metadata": {},
   "outputs": [
    {
     "data": {
      "text/plain": [
       "state\n",
       "Osun                         99.9\n",
       "Ekiti                        98.5\n",
       "Ondo                         98.1\n",
       "Lagos                        97.1\n",
       "Imo                          96.2\n",
       "Anambra                      96.2\n",
       "Abia                         95.5\n",
       "Edo                          95.3\n",
       "Enugu                        94.9\n",
       "Ebonyi                       94.0\n",
       "Delta                        93.8\n",
       "Rivers                       91.3\n",
       "Ogun                         90.0\n",
       "Cross River                  89.4\n",
       "Federal Capital Territory    89.0\n",
       "Plateau                      88.4\n",
       "Nasarawa                     88.2\n",
       "Benue                        84.4\n",
       "Kaduna                       83.6\n",
       "Akwa Ibom                    83.5\n",
       "Adamawa                      83.5\n",
       "Taraba                       81.7\n",
       "Niger                        80.9\n",
       "Nigeria                      79.3\n",
       "Kogi                         79.2\n",
       "Oyo                          77.8\n",
       "Bayelsa                      76.7\n",
       "Kwara                        73.8\n",
       "Jigawa                       72.7\n",
       "Yobe                         72.4\n",
       "Gombe                        69.7\n",
       "Borno                        66.7\n",
       "Bauchi                       65.9\n",
       "Kano                         63.3\n",
       "Kebbi                        53.6\n",
       "Sokoto                       50.0\n",
       "Katsina                      34.4\n",
       "Zamfara                      28.2\n",
       "Name: total, dtype: float64"
      ]
     },
     "execution_count": 154,
     "metadata": {},
     "output_type": "execute_result"
    }
   ],
   "source": [
    "state_coverage = df.groupby('state')['total'].max().sort_values(ascending=False)\n",
    "state_coverage"
   ]
  },
  {
   "cell_type": "code",
   "execution_count": 157,
   "metadata": {},
   "outputs": [
    {
     "data": {
      "text/plain": [
       "state\n",
       "Osun                         99.9\n",
       "Ekiti                        98.5\n",
       "Ondo                         98.1\n",
       "Lagos                        97.1\n",
       "Imo                          96.2\n",
       "Anambra                      96.2\n",
       "Abia                         95.5\n",
       "Edo                          95.3\n",
       "Enugu                        94.9\n",
       "Ebonyi                       94.0\n",
       "Delta                        93.8\n",
       "Rivers                       91.3\n",
       "Ogun                         90.0\n",
       "Cross River                  89.4\n",
       "Federal Capital Territory    89.0\n",
       "Plateau                      88.4\n",
       "Nasarawa                     88.2\n",
       "Benue                        84.4\n",
       "Kaduna                       83.6\n",
       "Akwa Ibom                    83.5\n",
       "Adamawa                      83.5\n",
       "Taraba                       81.7\n",
       "Niger                        80.9\n",
       "Nigeria                      79.3\n",
       "Kogi                         79.2\n",
       "Oyo                          77.8\n",
       "Bayelsa                      76.7\n",
       "Kwara                        73.8\n",
       "Jigawa                       72.7\n",
       "Yobe                         72.4\n",
       "Gombe                        69.7\n",
       "Borno                        66.7\n",
       "Bauchi                       65.9\n",
       "Kano                         63.3\n",
       "Kebbi                        53.6\n",
       "Sokoto                       50.0\n",
       "Katsina                      34.4\n",
       "Zamfara                      28.2\n",
       "Name: total, dtype: float64"
      ]
     },
     "execution_count": 157,
     "metadata": {},
     "output_type": "execute_result"
    }
   ],
   "source": [
    "state_coverage = df.groupby('state')['total'].max().sort_values(ascending=False)\n",
    "state_coverage"
   ]
  },
  {
   "cell_type": "code",
   "execution_count": 158,
   "metadata": {},
   "outputs": [
    {
     "data": {
      "text/plain": [
       "state\n",
       "Lagos                        92.6\n",
       "Ekiti                        92.3\n",
       "Imo                          86.8\n",
       "Abia                         86.4\n",
       "Edo                          81.3\n",
       "Federal Capital Territory    80.5\n",
       "Enugu                        79.7\n",
       "Anambra                      77.2\n",
       "Rivers                       75.4\n",
       "Cross River                  75.3\n",
       "Ebonyi                       74.6\n",
       "Delta                        73.4\n",
       "Ondo                         72.2\n",
       "Osun                         70.6\n",
       "Ogun                         63.8\n",
       "Akwa Ibom                    63.5\n",
       "Nasarawa                     58.8\n",
       "Oyo                          58.3\n",
       "Nigeria                      57.2\n",
       "Taraba                       56.0\n",
       "Plateau                      55.4\n",
       "Kogi                         52.8\n",
       "Adamawa                      51.9\n",
       "Yobe                         51.3\n",
       "Gombe                        49.1\n",
       "Kwara                        46.4\n",
       "Kaduna                       45.9\n",
       "Borno                        44.5\n",
       "Bayelsa                      41.7\n",
       "Bauchi                       41.5\n",
       "Benue                        40.6\n",
       "Jigawa                       38.0\n",
       "Kano                         36.1\n",
       "Niger                        33.3\n",
       "Sokoto                       22.4\n",
       "Kebbi                        18.8\n",
       "Katsina                      12.0\n",
       "Zamfara                      12.0\n",
       "Name: total, dtype: float64"
      ]
     },
     "execution_count": 158,
     "metadata": {},
     "output_type": "execute_result"
    }
   ],
   "source": [
    "state_coveragem = df.groupby('state')['total'].min().sort_values(ascending=False)\n",
    "state_coveragem"
   ]
  },
  {
   "cell_type": "code",
   "execution_count": 66,
   "metadata": {},
   "outputs": [
    {
     "data": {
      "text/plain": [
       "state\n",
       "Ekiti    95.08\n",
       "Lagos    94.70\n",
       "Imo      92.06\n",
       "Abia     90.94\n",
       "Edo      89.70\n",
       "Name: total, dtype: float64"
      ]
     },
     "execution_count": 66,
     "metadata": {},
     "output_type": "execute_result"
    }
   ],
   "source": [
    "# Top 5 states with highest average vaccination coverage rate\n",
    "state_avg_coverage_rate = df.groupby('state')['total'].mean().sort_values(ascending=False).head()\n",
    "state_avg_coverage_rate\n"
   ]
  },
  {
   "cell_type": "code",
   "execution_count": 69,
   "metadata": {},
   "outputs": [
    {
     "data": {
      "text/plain": [
       "state\n",
       "Zamfara    19.70\n",
       "Katsina    21.92\n",
       "Kebbi      30.10\n",
       "Sokoto     31.26\n",
       "Kano       50.22\n",
       "Name: total, dtype: float64"
      ]
     },
     "execution_count": 69,
     "metadata": {},
     "output_type": "execute_result"
    }
   ],
   "source": [
    "# Top 5 states with lowest average vaccination coverage rate\n",
    "state_avg_coverage_rate_low = df.groupby('state')['total'].mean().sort_values(ascending=True).head()\n",
    "state_avg_coverage_rate_low"
   ]
  },
  {
   "cell_type": "code",
   "execution_count": null,
   "metadata": {},
   "outputs": [],
   "source": []
  },
  {
   "cell_type": "code",
   "execution_count": 70,
   "metadata": {},
   "outputs": [
    {
     "data": {
      "text/plain": [
       "vaccine\n",
       "Any        80.450000\n",
       "Penta 1    71.297368\n",
       "Penta 2    66.839474\n",
       "Measles    65.578947\n",
       "Penta 3    58.118421\n",
       "Name: total, dtype: float64"
      ]
     },
     "execution_count": 70,
     "metadata": {},
     "output_type": "execute_result"
    }
   ],
   "source": [
    "# Top vaccines with highest coverage rate\n",
    "vaccinetype_avg_coverage_rate = df.groupby('vaccine')['total'].mean().sort_values(ascending=False)\n",
    "vaccinetype_avg_coverage_rate"
   ]
  },
  {
   "cell_type": "code",
   "execution_count": 120,
   "metadata": {},
   "outputs": [
    {
     "data": {
      "text/plain": [
       "vaccine  state\n",
       "Penta 1  Osun     98.0\n",
       "         Ekiti    96.9\n",
       "         Imo      96.2\n",
       "         Abia     95.5\n",
       "         Lagos    94.1\n",
       "Name: total, dtype: float64"
      ]
     },
     "execution_count": 120,
     "metadata": {},
     "output_type": "execute_result"
    }
   ],
   "source": [
    "# Which states has highest coverage for the different vaccine types\n",
    "vaccinetype_avg_coverage_rate_test = df.groupby(['vaccine', 'state'])['total'].mean().groupby('vaccine').apply(lambda x: x.sort_values(ascending=False))\n",
    "vaccinetype_avg_coverage_rate_test['Penta 1'].head()\n"
   ]
  },
  {
   "cell_type": "code",
   "execution_count": 125,
   "metadata": {},
   "outputs": [
    {
     "data": {
      "text/plain": [
       "vaccine  state  \n",
       "Penta 1  Niger      49.2\n",
       "         Kebbi      35.4\n",
       "         Sokoto     33.3\n",
       "         Katsina    27.3\n",
       "         Zamfara    20.8\n",
       "Name: total, dtype: float64"
      ]
     },
     "execution_count": 125,
     "metadata": {},
     "output_type": "execute_result"
    }
   ],
   "source": [
    "vaccinetype_avg_coverage_rate_test['Penta 1'].tail()\n"
   ]
  },
  {
   "cell_type": "code",
   "execution_count": 121,
   "metadata": {},
   "outputs": [
    {
     "data": {
      "text/plain": [
       "vaccine  state\n",
       "Penta 2  Ekiti    95.4\n",
       "         Imo      94.3\n",
       "         Lagos    94.1\n",
       "         Abia     90.9\n",
       "         Edo      90.6\n",
       "Name: total, dtype: float64"
      ]
     },
     "execution_count": 121,
     "metadata": {},
     "output_type": "execute_result"
    }
   ],
   "source": [
    "vaccinetype_avg_coverage_rate_test['Penta 2'].head()"
   ]
  },
  {
   "cell_type": "code",
   "execution_count": 126,
   "metadata": {},
   "outputs": [
    {
     "data": {
      "text/plain": [
       "vaccine  state  \n",
       "Penta 2  Niger      43.7\n",
       "         Sokoto     26.9\n",
       "         Kebbi      23.4\n",
       "         Katsina    20.1\n",
       "         Zamfara    17.1\n",
       "Name: total, dtype: float64"
      ]
     },
     "execution_count": 126,
     "metadata": {},
     "output_type": "execute_result"
    }
   ],
   "source": [
    "vaccinetype_avg_coverage_rate_test['Penta 2'].tail()"
   ]
  },
  {
   "cell_type": "code",
   "execution_count": 123,
   "metadata": {},
   "outputs": [
    {
     "data": {
      "text/plain": [
       "vaccine  state\n",
       "Penta 3  Lagos    92.6\n",
       "         Ekiti    92.3\n",
       "         Imo      86.8\n",
       "         Abia     86.4\n",
       "         Osun     86.3\n",
       "Name: total, dtype: float64"
      ]
     },
     "execution_count": 123,
     "metadata": {},
     "output_type": "execute_result"
    }
   ],
   "source": [
    "vaccinetype_avg_coverage_rate_test['Penta 3'].head()"
   ]
  },
  {
   "cell_type": "code",
   "execution_count": 127,
   "metadata": {},
   "outputs": [
    {
     "data": {
      "text/plain": [
       "vaccine  state  \n",
       "Penta 3  Niger      33.3\n",
       "         Sokoto     22.4\n",
       "         Kebbi      19.3\n",
       "         Katsina    12.0\n",
       "         Zamfara    12.0\n",
       "Name: total, dtype: float64"
      ]
     },
     "execution_count": 127,
     "metadata": {},
     "output_type": "execute_result"
    }
   ],
   "source": [
    "vaccinetype_avg_coverage_rate_test['Penta 3'].tail()"
   ]
  },
  {
   "cell_type": "code",
   "execution_count": 122,
   "metadata": {},
   "outputs": [
    {
     "data": {
      "text/plain": [
       "vaccine  state\n",
       "Measles  Lagos    95.6\n",
       "         Ekiti    92.3\n",
       "         Edo      87.5\n",
       "         Imo      86.8\n",
       "         Abia     86.4\n",
       "Name: total, dtype: float64"
      ]
     },
     "execution_count": 122,
     "metadata": {},
     "output_type": "execute_result"
    }
   ],
   "source": [
    "vaccinetype_avg_coverage_rate_test['Measles'].head()"
   ]
  },
  {
   "cell_type": "code",
   "execution_count": 128,
   "metadata": {},
   "outputs": [
    {
     "data": {
      "text/plain": [
       "vaccine  state  \n",
       "Measles  Kano       49.0\n",
       "         Sokoto     23.7\n",
       "         Zamfara    20.4\n",
       "         Kebbi      18.8\n",
       "         Katsina    15.8\n",
       "Name: total, dtype: float64"
      ]
     },
     "execution_count": 128,
     "metadata": {},
     "output_type": "execute_result"
    }
   ],
   "source": [
    "vaccinetype_avg_coverage_rate_test['Measles'].tail()"
   ]
  },
  {
   "attachments": {},
   "cell_type": "markdown",
   "metadata": {},
   "source": []
  },
  {
   "attachments": {},
   "cell_type": "markdown",
   "metadata": {},
   "source": []
  },
  {
   "attachments": {},
   "cell_type": "markdown",
   "metadata": {},
   "source": [
    "Calculating dropout rates for the pentavalent and measles vaccines\n",
    "Formula:\n",
    "    1. penta1 - penta3/penta1 * 100\n",
    "    2. Measles - penta1/Measles * 100"
   ]
  },
  {
   "cell_type": "code",
   "execution_count": 76,
   "metadata": {},
   "outputs": [
    {
     "data": {
      "text/plain": [
       "18.48447938581922"
      ]
     },
     "execution_count": 76,
     "metadata": {},
     "output_type": "execute_result"
    }
   ],
   "source": [
    "dropout_rate1 = (vaccinetype_avg_coverage_rate['Penta 1'] - vaccinetype_avg_coverage_rate['Penta 3'])/ vaccinetype_avg_coverage_rate['Penta 1'] * 100\n",
    "dropout_rate1"
   ]
  },
  {
   "cell_type": "code",
   "execution_count": 90,
   "metadata": {},
   "outputs": [
    {
     "data": {
      "text/plain": [
       "8.020521906027394"
      ]
     },
     "execution_count": 90,
     "metadata": {},
     "output_type": "execute_result"
    }
   ],
   "source": [
    "dropout_rate2 = (vaccinetype_avg_coverage_rate['Penta 1'] - vaccinetype_avg_coverage_rate['Measles'])/ vaccinetype_avg_coverage_rate['Penta 1'] * 100\n",
    "dropout_rate2"
   ]
  },
  {
   "cell_type": "code",
   "execution_count": 83,
   "metadata": {},
   "outputs": [
    {
     "data": {
      "text/plain": [
       "state      vaccine\n",
       "Abia       Any        95.5\n",
       "           Measles    86.4\n",
       "           Penta 1    95.5\n",
       "           Penta 2    90.9\n",
       "           Penta 3    86.4\n",
       "Adamawa    Any        83.5\n",
       "           Measles    68.4\n",
       "           Penta 1    69.9\n",
       "           Penta 2    63.2\n",
       "           Penta 3    51.9\n",
       "Akwa Ibom  Any        83.5\n",
       "           Measles    63.5\n",
       "           Penta 1    81.2\n",
       "           Penta 2    81.2\n",
       "           Penta 3    65.9\n",
       "Anambra    Any        96.2\n",
       "           Measles    77.2\n",
       "           Penta 1    91.1\n",
       "           Penta 2    86.1\n",
       "           Penta 3    81.0\n",
       "Bauchi     Any        65.9\n",
       "           Measles    54.5\n",
       "           Penta 1    52.8\n",
       "           Penta 2    48.3\n",
       "           Penta 3    41.5\n",
       "Bayelsa    Any        76.7\n",
       "           Measles    51.7\n",
       "           Penta 1    60.0\n",
       "           Penta 2    53.3\n",
       "           Penta 3    41.7\n",
       "Benue      Any        84.4\n",
       "           Measles    60.4\n",
       "           Penta 1    62.5\n",
       "           Penta 2    55.2\n",
       "           Penta 3    40.6\n",
       "Borno      Any        66.7\n",
       "           Measles    54.6\n",
       "           Penta 1    60.5\n",
       "           Penta 2    57.1\n",
       "           Penta 3    44.5\n",
       "Name: total, dtype: float64"
      ]
     },
     "execution_count": 83,
     "metadata": {},
     "output_type": "execute_result"
    }
   ],
   "source": [
    "vaccinetype_avg_coverage_ratestate= df.groupby(['state', 'vaccine'])['total'].mean().head(40)\n",
    "vaccinetype_avg_coverage_ratestate"
   ]
  },
  {
   "cell_type": "code",
   "execution_count": 152,
   "metadata": {},
   "outputs": [
    {
     "data": {
      "text/plain": [
       "state    vaccine  state  \n",
       "Abia     Any      Abia       95.5\n",
       "         Penta 1  Abia       95.5\n",
       "         Penta 2  Abia       90.9\n",
       "         Measles  Abia       86.4\n",
       "         Penta 3  Abia       86.4\n",
       "                             ... \n",
       "Zamfara  Any      Zamfara    28.2\n",
       "         Penta 1  Zamfara    20.8\n",
       "         Measles  Zamfara    20.4\n",
       "         Penta 2  Zamfara    17.1\n",
       "         Penta 3  Zamfara    12.0\n",
       "Name: total, Length: 190, dtype: float64"
      ]
     },
     "execution_count": 152,
     "metadata": {},
     "output_type": "execute_result"
    }
   ],
   "source": [
    "vaccinetype_avg_coverage_rate_test2 = df.groupby(['vaccine', 'state'])['total'].mean().groupby('state').apply(lambda x: x.sort_values(ascending=False))\n",
    "vaccinetype_avg_coverage_rate_test2"
   ]
  },
  {
   "cell_type": "code",
   "execution_count": 141,
   "metadata": {},
   "outputs": [
    {
     "data": {
      "text/plain": [
       "array([95.5, 95.5, 90.9, 86.4, 86.4, 83.5, 69.9, 68.4, 63.2, 51.9, 83.5,\n",
       "       81.2, 81.2, 65.9, 63.5, 96.2, 91.1, 86.1, 81. , 77.2, 65.9, 54.5,\n",
       "       52.8, 48.3, 41.5, 76.7, 60. , 53.3, 51.7, 41.7, 84.4, 62.5, 60.4,\n",
       "       55.2, 40.6, 66.7, 60.5, 57.1, 54.6, 44.5, 89.4, 89.4, 87.1, 81.2,\n",
       "       75.3, 93.8, 84.4, 79.7, 79.7, 73.4, 94. , 91. , 89.6, 74.6, 74.6,\n",
       "       95.3, 93.8, 90.6, 87.5, 81.3, 98.5, 96.9, 95.4, 92.3, 92.3, 94.9,\n",
       "       88.1, 86.4, 83.1, 79.7, 89. , 87.8, 85.4, 85.4, 80.5, 69.7, 63. ,\n",
       "       61.2, 55.2, 49.1, 96.2, 96.2, 94.3, 86.8, 86.8, 72.7, 62. , 53.7,\n",
       "       49.5, 38. , 83.6, 68. , 54.1, 51.6, 45.9, 63.3, 55.1, 49. , 47.6,\n",
       "       36.1, 34.4, 27.3, 20.1, 15.8, 12. , 53.6, 35.4, 23.4, 19.3, 18.8,\n",
       "       79.2, 70.8, 66.7, 65.3, 52.8, 73.8, 63.1, 57.1, 53.6, 46.4, 97.1,\n",
       "       95.6, 94.1, 94.1, 92.6, 88.2, 82.4, 77.6, 67.1, 58.8, 80.9, 69.4,\n",
       "       49.2, 43.7, 33.3, 79.3, 69.9, 65.4, 64.7, 57.2, 90. , 76.3, 70. ,\n",
       "       70. , 63.8, 98.1, 87. , 85.2, 81.5, 72.2, 99.9, 98. , 90.2, 86.3,\n",
       "       70.6, 77.8, 70.8, 66.7, 59.7, 58.3, 88.4, 81. , 74.4, 71.1, 55.4,\n",
       "       91.3, 89.9, 88.4, 82.6, 75.4, 50. , 33.3, 26.9, 23.7, 22.4, 81.7,\n",
       "       77.1, 70.6, 66.1, 56. , 72.4, 67.8, 64.5, 63.2, 51.3, 28.2, 20.8,\n",
       "       20.4, 17.1, 12. ])"
      ]
     },
     "execution_count": 141,
     "metadata": {},
     "output_type": "execute_result"
    }
   ],
   "source": [
    "vaccinetype_avg_coverage_rate_test2.values"
   ]
  },
  {
   "cell_type": "code",
   "execution_count": null,
   "metadata": {},
   "outputs": [],
   "source": []
  }
 ],
 "metadata": {
  "kernelspec": {
   "display_name": "base",
   "language": "python",
   "name": "python3"
  },
  "language_info": {
   "codemirror_mode": {
    "name": "ipython",
    "version": 3
   },
   "file_extension": ".py",
   "mimetype": "text/x-python",
   "name": "python",
   "nbconvert_exporter": "python",
   "pygments_lexer": "ipython3",
   "version": "3.9.12"
  },
  "orig_nbformat": 4
 },
 "nbformat": 4,
 "nbformat_minor": 2
}
